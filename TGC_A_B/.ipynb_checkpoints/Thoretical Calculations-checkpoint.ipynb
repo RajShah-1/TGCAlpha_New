{
 "cells": [
  {
   "cell_type": "code",
   "execution_count": 1,
   "id": "f79bedca",
   "metadata": {},
   "outputs": [],
   "source": [
    "import numpy as np\n",
    "import matplotlib.pyplot as plt"
   ]
  },
  {
   "cell_type": "code",
   "execution_count": 6,
   "id": "a681de36",
   "metadata": {},
   "outputs": [],
   "source": [
    "def compute_r_alpha_beta(n, L, s, alpha, beta):\n",
    "    en = beta/alpha\n",
    "    ec = (alpha-1)*en\n",
    "    num = 1-en*sum([(L-i)*n**i for i in range(1, L+1)])-ec*sum([i*((n/(s+1))**(L-i)) for i in range(1, L)])\n",
    "    den = (alpha-1)*sum([(n/(s+1))**(i) for i in range(1, L+1)]) + sum([n**i for i in range(1, L+1)])\n",
    "    return {\n",
    "        'rn_L': num/den,\n",
    "        'rc_L': (alpha-1)*num/den\n",
    "    }"
   ]
  },
  {
   "cell_type": "code",
   "execution_count": 8,
   "id": "ea9b0a87",
   "metadata": {},
   "outputs": [],
   "source": [
    "def compute_r_alpha(n, L, s, alpha):\n",
    "    num = 1\n",
    "    den = (alpha-1)*sum([(n/(s+1))**(i) for i in range(1, L+1)]) + sum([n**i for i in range(1, L+1)])\n",
    "    return {\n",
    "        'rn_L': num/den,\n",
    "        'rc_L': (alpha-1)*num/den\n",
    "    }"
   ]
  },
  {
   "cell_type": "code",
   "execution_count": 13,
   "id": "9b704069",
   "metadata": {},
   "outputs": [],
   "source": [
    "def compute_r_beta(n, L, s, beta):\n",
    "    num = 1-beta*sum([i*((n/(s+1))**(L-i)) for i in range(1, L)])\n",
    "    den = sum([(n/(s+1))**(i) for i in range(1, L+1)])\n",
    "    return {\n",
    "        'rn_L': 0,\n",
    "        'rc_L': num/den\n",
    "    }"
   ]
  },
  {
   "cell_type": "code",
   "execution_count": 17,
   "id": "0441af69",
   "metadata": {},
   "outputs": [],
   "source": [
    "def compute_r_plain(n, L, s):\n",
    "    num = 1\n",
    "    den = sum([(n/(s+1))**(i) for i in range(1, L+1)])\n",
    "    return {\n",
    "        'rn_L': 0,\n",
    "        'rc_L': num/den\n",
    "    }"
   ]
  },
  {
   "cell_type": "code",
   "execution_count": 21,
   "id": "6da5db2a",
   "metadata": {},
   "outputs": [],
   "source": [
    "def compute_all_r(n, L, s, alpha, beta):\n",
    "    r_vals = {}\n",
    "    beta_with_naive = 3*beta/2\n",
    "    r_vals['alpha-beta'] = compute_r_alpha_beta(n, L, s, alpha, beta_with_naive)\n",
    "    r_vals['alpha'] = compute_r_alpha(n, L, s, alpha)\n",
    "    r_vals['beta'] = compute_r_beta(n, L, s, beta)\n",
    "    r_vals['plain'] = compute_r_plain(n, L, s)\n",
    "    return r_vals"
   ]
  },
  {
   "cell_type": "code",
   "execution_count": 22,
   "id": "b8040b76",
   "metadata": {},
   "outputs": [
    {
     "data": {
      "text/plain": [
       "{'alpha-beta': {'rn_L': 0.03205128205128205, 'rc_L': 0.0641025641025641},\n",
       " 'alpha': {'rn_L': 0.05128205128205128, 'rc_L': 0.10256410256410256},\n",
       " 'beta': {'rn_L': 0, 'rc_L': 0.21666666666666667},\n",
       " 'plain': {'rn_L': 0, 'rc_L': 0.26666666666666666}}"
      ]
     },
     "execution_count": 22,
     "metadata": {},
     "output_type": "execute_result"
    }
   ],
   "source": [
    "compute_all_r(3, 2, 1, 3, 1/8)"
   ]
  },
  {
   "cell_type": "code",
   "execution_count": 26,
   "id": "313a221e",
   "metadata": {},
   "outputs": [],
   "source": [
    "def compute_it_time(n, L, s, alpha, beta):\n",
    "    it_times = {}\n",
    "    r_vals = compute_all_r(n, L, s, alpha, beta)\n",
    "    beta_with_alpha = 3*beta/2\n",
    "    \n",
    "    rn_A_B = r_vals['alpha-beta']['rn_L']\n",
    "    # compute@l=1: rn_A_B*alpha + beta*(L-1)\n",
    "    # communicate@l=1: beta\n",
    "    it_times['alpha-beta'] = rn_A_B*alpha + beta_with_alpha*(L-1) + beta_with_alpha\n",
    "    \n",
    "    rn_A = r_vals['alpha']['rn_L']\n",
    "    it_times['alpha'] = rn_A*alpha + beta_with_alpha*L\n",
    "    \n",
    "    rc_B = r_vals['beta']['rc_L']\n",
    "    it_times['beta'] = rc_B + beta*(L-1) + beta\n",
    "    \n",
    "    rc_plain = r_vals['plain']['rc_L']\n",
    "    it_times['plain'] = rc_plain + beta*(L-1) + beta\n",
    "    \n",
    "    return it_times"
   ]
  },
  {
   "cell_type": "code",
   "execution_count": 35,
   "id": "71b5a217",
   "metadata": {},
   "outputs": [
    {
     "name": "stdout",
     "output_type": "stream",
     "text": [
      "{'alpha-beta': 0.47115384615384615, 'alpha': 0.5288461538461539, 'beta': 0.4666666666666667, 'plain': 0.5166666666666666}\n"
     ]
    }
   ],
   "source": [
    "it_times = compute_it_time(3, 2, 1, alpha=3, beta=1/8)\n",
    "print(it_times)"
   ]
  },
  {
   "cell_type": "code",
   "execution_count": null,
   "id": "ab3cf44c",
   "metadata": {},
   "outputs": [],
   "source": []
  }
 ],
 "metadata": {
  "kernelspec": {
   "display_name": "Python 3 (ipykernel)",
   "language": "python",
   "name": "python3"
  },
  "language_info": {
   "codemirror_mode": {
    "name": "ipython",
    "version": 3
   },
   "file_extension": ".py",
   "mimetype": "text/x-python",
   "name": "python",
   "nbconvert_exporter": "python",
   "pygments_lexer": "ipython3",
   "version": "3.8.10"
  }
 },
 "nbformat": 4,
 "nbformat_minor": 5
}
